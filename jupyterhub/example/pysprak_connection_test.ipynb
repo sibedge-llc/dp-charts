{
 "cells": [
  {
   "cell_type": "markdown",
   "id": "ba443ab3-f8c7-4f83-a813-816a417efaa0",
   "metadata": {
    "jupyter": {
     "outputs_hidden": true
    },
    "tags": []
   },
   "source": []
  },
  {
   "cell_type": "code",
   "execution_count": 1,
   "id": "d97e00e6-25e8-428f-99ad-141de0f71605",
   "metadata": {
    "execution": {
     "iopub.execute_input": "2022-02-02T09:21:23.605930Z",
     "iopub.status.busy": "2022-02-02T09:21:23.597479Z",
     "iopub.status.idle": "2022-02-02T09:21:47.204599Z",
     "shell.execute_reply": "2022-02-02T09:21:47.203521Z",
     "shell.execute_reply.started": "2022-02-02T09:21:23.605551Z"
    },
    "tags": []
   },
   "outputs": [
    {
     "name": "stdout",
     "output_type": "stream",
     "text": [
      "Collecting pandas\n",
      "  Downloading pandas-1.4.0-cp38-cp38-manylinux_2_17_x86_64.manylinux2014_x86_64.whl (11.7 MB)\n",
      "     |████████████████████████████████| 11.7 MB 19.5 MB/s            \n",
      "\u001b[?25hRequirement already satisfied: python-dateutil>=2.8.1 in /opt/conda/lib/python3.8/site-packages (from pandas) (2.8.2)\n",
      "Requirement already satisfied: pytz>=2020.1 in /opt/conda/lib/python3.8/site-packages (from pandas) (2021.3)\n",
      "Collecting numpy>=1.18.5\n",
      "  Downloading numpy-1.22.1-cp38-cp38-manylinux_2_17_x86_64.manylinux2014_x86_64.whl (16.8 MB)\n",
      "     |████████████████████████████████| 16.8 MB 4.3 MB/s             \n",
      "\u001b[?25hRequirement already satisfied: six>=1.5 in /opt/conda/lib/python3.8/site-packages (from python-dateutil>=2.8.1->pandas) (1.16.0)\n",
      "Installing collected packages: numpy, pandas\n",
      "Successfully installed numpy-1.22.1 pandas-1.4.0\n",
      "\u001b[33mWARNING: You are using pip version 21.3.1; however, version 22.0.2 is available.\n",
      "You should consider upgrading via the '/opt/conda/bin/python -m pip install --upgrade pip' command.\u001b[0m\n",
      "Note: you may need to restart the kernel to use updated packages.\n"
     ]
    }
   ],
   "source": [
    "pip install pandas"
   ]
  },
  {
   "cell_type": "code",
   "execution_count": 2,
   "id": "a8d86af7-de55-4d02-be02-179e774d3734",
   "metadata": {
    "execution": {
     "iopub.execute_input": "2022-02-02T09:21:47.212364Z",
     "iopub.status.busy": "2022-02-02T09:21:47.209653Z",
     "iopub.status.idle": "2022-02-02T09:21:47.224816Z",
     "shell.execute_reply": "2022-02-02T09:21:47.222733Z",
     "shell.execute_reply.started": "2022-02-02T09:21:47.212287Z"
    }
   },
   "outputs": [],
   "source": [
    "import findspark\n",
    "findspark.init()"
   ]
  },
  {
   "cell_type": "code",
   "execution_count": 3,
   "id": "2b094b5b-a59b-468b-94c2-82675ed325f6",
   "metadata": {
    "execution": {
     "iopub.execute_input": "2022-02-02T09:21:47.230559Z",
     "iopub.status.busy": "2022-02-02T09:21:47.228356Z",
     "iopub.status.idle": "2022-02-02T09:21:47.237672Z",
     "shell.execute_reply": "2022-02-02T09:21:47.236207Z",
     "shell.execute_reply.started": "2022-02-02T09:21:47.230507Z"
    },
    "tags": []
   },
   "outputs": [],
   "source": [
    "from pyspark import SparkConf\n",
    "from pyspark.sql import SparkSession"
   ]
  },
  {
   "cell_type": "code",
   "execution_count": 2,
   "id": "041f913e-e4cb-45ce-b091-f87d280c52a1",
   "metadata": {
    "execution": {
     "iopub.execute_input": "2022-02-02T13:16:44.365461Z",
     "iopub.status.busy": "2022-02-02T13:16:44.364237Z",
     "iopub.status.idle": "2022-02-02T13:16:44.379990Z",
     "shell.execute_reply": "2022-02-02T13:16:44.373396Z",
     "shell.execute_reply.started": "2022-02-02T13:16:44.365416Z"
    },
    "tags": []
   },
   "outputs": [],
   "source": [
    "import os"
   ]
  },
  {
   "cell_type": "code",
   "execution_count": 3,
   "id": "d47471f2-2aad-4afd-9087-4a06edd4a3b2",
   "metadata": {
    "execution": {
     "iopub.execute_input": "2022-02-02T13:16:44.565523Z",
     "iopub.status.busy": "2022-02-02T13:16:44.564935Z",
     "iopub.status.idle": "2022-02-02T13:16:44.590223Z",
     "shell.execute_reply": "2022-02-02T13:16:44.589273Z",
     "shell.execute_reply.started": "2022-02-02T13:16:44.565467Z"
    },
    "tags": []
   },
   "outputs": [
    {
     "data": {
      "text/plain": [
       "'10.233.105.15'"
      ]
     },
     "execution_count": 3,
     "metadata": {},
     "output_type": "execute_result"
    }
   ],
   "source": [
    "ip = os.getenv(\"MY_POD_IP\")"
   ]
  },
  {
   "cell_type": "code",
   "execution_count": 6,
   "id": "11f9bb83-7f44-45bb-a682-3eaee64bbb35",
   "metadata": {
    "execution": {
     "iopub.execute_input": "2022-02-02T09:21:47.383041Z",
     "iopub.status.busy": "2022-02-02T09:21:47.381373Z",
     "iopub.status.idle": "2022-02-02T09:21:47.391200Z",
     "shell.execute_reply": "2022-02-02T09:21:47.390086Z",
     "shell.execute_reply.started": "2022-02-02T09:21:47.382993Z"
    },
    "tags": []
   },
   "outputs": [],
   "source": [
    "config = {\n",
    "    \"spark.executor.instances\": \"1\",\n",
    "    \"spark.executor.memory\": \"1024mb\",\n",
    "    \"spark.executor.cores\": \"1\",\n",
    "    \n",
    "    \"spark.driver.port\": \"2222\",\n",
    "    \"spark.driver.host\": ip,\n",
    "    \n",
    "    \"spark.driver.blockManager.port\": \"7777\",\n",
    "    \"spark.driver.bindAddress\": \"0.0.0.0\",\n",
    "    \"spark.files.overwrite\": True,\n",
    "    \n",
    "    \"spark.kubernetes.namespace\": \"default\",\n",
    "#     \"spark.kubernetes.authenticate.caCertFile\": \"./ca.crt\",\n",
    "#     \"spark.kubernetes.authenticate.oauthTokenFile\": \"./token\",\n",
    "    \"spark.kubernetes.container.image\": \"datamechanics/spark:3.2.0-hadoop-3.3.1-java-11-scala-2.12-python-3.8-latest\",\n",
    "    \n",
    "    \"spark.hadoop.fs.s3a.access.key\": \"6DKBB4FU8HIDEJD49GCF\",\n",
    "    \"spark.hadoop.fs.s3a.secret.key\": \"QtELTrZUy402hQ5wCUowfUaiVpgWS821FaU4iFP6\",\n",
    "    \"spark.hadoop.fs.s3a.endpoint\": \"ewr1.vultrobjects.com\",\n",
    "    \n",
    "    \"spark.hadoop.fs.s3a.path.style.access\": \"true\",\n",
    "    # \"spark.hadoop.fs.s3a.connection.ssl.enabled\": \"false\",\n",
    "    \"spark.hadoop.fs.s3a.impl\": \"org.apache.hadoop.fs.s3a.S3AFileSystem\",\n",
    "    \n",
    "    # \"spark.hadoop.com.amazonaws.services.s3.enableV4\": \"true\",\n",
    "}"
   ]
  },
  {
   "cell_type": "code",
   "execution_count": 7,
   "id": "f6ff692c-9e0e-40cb-aa53-f70b71db2721",
   "metadata": {
    "execution": {
     "iopub.execute_input": "2022-02-02T09:21:47.431085Z",
     "iopub.status.busy": "2022-02-02T09:21:47.395307Z",
     "iopub.status.idle": "2022-02-02T09:21:47.438484Z",
     "shell.execute_reply": "2022-02-02T09:21:47.437550Z",
     "shell.execute_reply.started": "2022-02-02T09:21:47.431029Z"
    },
    "tags": []
   },
   "outputs": [],
   "source": [
    "def get_spark_session(app_name: str, config: dict, enable_hive=True):\n",
    "    \n",
    "    conf = SparkConf()\n",
    "    conf.setMaster(\"k8s://https://kubernetes.default.svc.cluster.local\")\n",
    "    \n",
    "    for key, value in config.items():\n",
    "        conf.set(key, value)    \n",
    "    \n",
    "    # prepare spark sesseion to be returned\n",
    "    spark = SparkSession.builder\n",
    "\n",
    "    spark = spark.appName(app_name)\n",
    "    spark = spark.enableHiveSupport() if enable_hive else spark\n",
    "\n",
    "\n",
    "    return spark.config(conf=conf).getOrCreate() \n",
    "     "
   ]
  },
  {
   "cell_type": "code",
   "execution_count": 8,
   "id": "7b8cfbfb-06e3-483d-912d-43dfd448db49",
   "metadata": {
    "execution": {
     "iopub.execute_input": "2022-02-02T09:21:47.445477Z",
     "iopub.status.busy": "2022-02-02T09:21:47.443184Z",
     "iopub.status.idle": "2022-02-02T09:22:18.565131Z",
     "shell.execute_reply": "2022-02-02T09:22:18.559706Z",
     "shell.execute_reply.started": "2022-02-02T09:21:47.445427Z"
    },
    "tags": []
   },
   "outputs": [],
   "source": [
    "spark = get_spark_session(\"getting_started\", config)"
   ]
  },
  {
   "cell_type": "code",
   "execution_count": 14,
   "id": "059f2eea-d36b-4426-811c-db9ed6f3aa76",
   "metadata": {
    "execution": {
     "iopub.execute_input": "2022-02-02T09:22:27.686020Z",
     "iopub.status.busy": "2022-02-02T09:22:27.682869Z",
     "iopub.status.idle": "2022-02-02T09:22:27.743105Z",
     "shell.execute_reply": "2022-02-02T09:22:27.693910Z",
     "shell.execute_reply.started": "2022-02-02T09:22:27.685924Z"
    },
    "tags": []
   },
   "outputs": [],
   "source": [
    "url = \"https://my.api.mockaroo.com/users.json?key=c16156b0\""
   ]
  },
  {
   "cell_type": "code",
   "execution_count": 15,
   "id": "9bafe4ee-0d78-48c4-8c0b-c93fa6327aca",
   "metadata": {
    "execution": {
     "iopub.execute_input": "2022-02-02T09:22:27.749320Z",
     "iopub.status.busy": "2022-02-02T09:22:27.746710Z",
     "iopub.status.idle": "2022-02-02T09:22:29.893835Z",
     "shell.execute_reply": "2022-02-02T09:22:29.892408Z",
     "shell.execute_reply.started": "2022-02-02T09:22:27.749268Z"
    },
    "tags": []
   },
   "outputs": [],
   "source": [
    "from urllib.request import urlopen\n",
    "jsonData = urlopen(url).read().decode('utf-8')"
   ]
  },
  {
   "cell_type": "code",
   "execution_count": 16,
   "id": "91b98363-2a1f-41b1-b372-6dea5859c379",
   "metadata": {
    "execution": {
     "iopub.execute_input": "2022-02-02T09:22:29.904011Z",
     "iopub.status.busy": "2022-02-02T09:22:29.900238Z",
     "iopub.status.idle": "2022-02-02T09:22:40.297754Z",
     "shell.execute_reply": "2022-02-02T09:22:40.289704Z",
     "shell.execute_reply.started": "2022-02-02T09:22:29.903935Z"
    },
    "tags": []
   },
   "outputs": [],
   "source": [
    "rdd = spark.sparkContext.parallelize([jsonData])\n",
    "df = spark.read.json(rdd)\n",
    "df.createOrReplaceTempView(\"users\")"
   ]
  },
  {
   "cell_type": "code",
   "execution_count": 17,
   "id": "f3e53011-d245-40a9-95be-ac693829fcb1",
   "metadata": {
    "execution": {
     "iopub.execute_input": "2022-02-02T09:22:40.319889Z",
     "iopub.status.busy": "2022-02-02T09:22:40.315447Z",
     "iopub.status.idle": "2022-02-02T09:22:43.310312Z",
     "shell.execute_reply": "2022-02-02T09:22:43.306974Z",
     "shell.execute_reply.started": "2022-02-02T09:22:40.319747Z"
    },
    "tags": []
   },
   "outputs": [
    {
     "name": "stdout",
     "output_type": "stream",
     "text": [
      "root\n",
      " |-- email: string (nullable = true)\n",
      " |-- first_name: string (nullable = true)\n",
      " |-- gender: string (nullable = true)\n",
      " |-- id: long (nullable = true)\n",
      " |-- ip_address: string (nullable = true)\n",
      " |-- last_name: string (nullable = true)\n",
      "\n",
      "+--------------------+----------+-----------+---+---------------+----------+\n",
      "|               email|first_name|     gender| id|     ip_address| last_name|\n",
      "+--------------------+----------+-----------+---+---------------+----------+\n",
      "|apennigar0@abouta...|      Abbi|       Male|  1|136.161.110.205|  Pennigar|\n",
      "|      maust1@ftc.gov|     Margo|     Female|  2|186.113.154.243|      Aust|\n",
      "|mlosano2@chicagot...|     Marcy|     Female|  3|165.211.128.180|    Losano|\n",
      "|    bkayne3@webs.com|  Benjamen|     Female|  4|  41.96.213.210|     Kayne|\n",
      "|kblackaller4@goog...|   Kamilah|       Male|  5| 151.212.54.152|Blackaller|\n",
      "|lhumfrey5@rediff.com|      Land| Non-binary|  6|  158.7.168.215|   Humfrey|\n",
      "|  pfawlks6@yandex.ru|     Perla|       Male|  7|  49.196.100.45|    Fawlks|\n",
      "|  thynson7@jimdo.com|      Trev|     Female|  8|  114.13.243.84|    Hynson|\n",
      "|pmallabon8@privac...|     Piper|       Male|  9| 63.205.130.176|  Mallabon|\n",
      "|mambridge9@instag...| Micheline|     Female| 10|  222.1.221.118|  Ambridge|\n",
      "|acoskera@shinysta...|    Arleen|       Male| 11|    61.8.55.161|    Cosker|\n",
      "|mvallentinb@java.com| Mirabella|     Female| 12| 161.111.78.153| Vallentin|\n",
      "|aludgatec@eepurl.com|     Andee|       Male| 13|191.179.162.192|   Ludgate|\n",
      "|   ptuplind@gmpg.org|   Phaidra|Genderfluid| 14|   204.47.81.46|    Tuplin|\n",
      "|sstotharte@japanp...|     Stevy|     Female| 15|  88.79.120.235|  Stothart|\n",
      "| kmacluref@state.gov|     Karil|     Female| 16|  115.218.73.64|   MacLure|\n",
      "|   wrideg@unicef.org|    Wilmer|       Male| 17|153.133.152.150|      Ride|\n",
      "|mrubinskyh@sphinn...|    Meghan|     Female| 18|   87.95.87.114|  Rubinsky|\n",
      "|   lchartrei@msn.com|    Luelle| Polygender| 19| 58.111.244.204|   Chartre|\n",
      "|ascripturej@shop-...|     Arlie|       Male| 20|  169.119.0.121| Scripture|\n",
      "+--------------------+----------+-----------+---+---------------+----------+\n",
      "only showing top 20 rows\n",
      "\n"
     ]
    }
   ],
   "source": [
    "df.printSchema()\n",
    "df.show()"
   ]
  },
  {
   "cell_type": "code",
   "execution_count": 18,
   "id": "caf150a9-20b6-458b-bb65-0276479cb6ce",
   "metadata": {
    "execution": {
     "iopub.execute_input": "2022-02-02T09:22:43.341583Z",
     "iopub.status.busy": "2022-02-02T09:22:43.326487Z",
     "iopub.status.idle": "2022-02-02T09:22:43.938002Z",
     "shell.execute_reply": "2022-02-02T09:22:43.932591Z",
     "shell.execute_reply.started": "2022-02-02T09:22:43.341512Z"
    },
    "tags": []
   },
   "outputs": [],
   "source": [
    "df2 = spark.sql(\"SELECT * FROM users as u1 full join users as u2 \")"
   ]
  },
  {
   "cell_type": "code",
   "execution_count": 19,
   "id": "37319534-77e0-4e71-8a46-d64f744edb6c",
   "metadata": {
    "execution": {
     "iopub.execute_input": "2022-02-02T09:22:43.950669Z",
     "iopub.status.busy": "2022-02-02T09:22:43.946364Z",
     "iopub.status.idle": "2022-02-02T09:22:49.692928Z",
     "shell.execute_reply": "2022-02-02T09:22:49.691269Z",
     "shell.execute_reply.started": "2022-02-02T09:22:43.950596Z"
    }
   },
   "outputs": [
    {
     "data": {
      "text/plain": [
       "1000000"
      ]
     },
     "execution_count": 19,
     "metadata": {},
     "output_type": "execute_result"
    }
   ],
   "source": [
    "df2.count()"
   ]
  },
  {
   "cell_type": "code",
   "execution_count": null,
   "id": "5dc96d77-4c2b-4bee-abf9-d4bd9081b5f1",
   "metadata": {},
   "outputs": [],
   "source": [
    "# spark.stop()"
   ]
  }
 ],
 "metadata": {
  "kernelspec": {
   "display_name": "Python 3",
   "language": "python",
   "name": "python3"
  },
  "language_info": {
   "codemirror_mode": {
    "name": "ipython",
    "version": 3
   },
   "file_extension": ".py",
   "mimetype": "text/x-python",
   "name": "python",
   "nbconvert_exporter": "python",
   "pygments_lexer": "ipython3",
   "version": "3.8.12"
  }
 },
 "nbformat": 4,
 "nbformat_minor": 5
}
