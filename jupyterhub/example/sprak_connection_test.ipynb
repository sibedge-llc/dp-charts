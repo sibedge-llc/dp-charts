{
 "cells": [
  {
   "cell_type": "code",
   "execution_count": 2,
   "id": "236c8060-a89c-4b10-876f-871af9b3ddbb",
   "metadata": {
    "execution": {
     "iopub.execute_input": "2022-02-02T13:23:52.238546Z",
     "iopub.status.busy": "2022-02-02T13:23:52.234627Z",
     "iopub.status.idle": "2022-02-02T13:24:21.163023Z",
     "shell.execute_reply": "2022-02-02T13:24:21.161169Z",
     "shell.execute_reply.started": "2022-02-02T13:23:52.238490Z"
    },
    "tags": []
   },
   "outputs": [],
   "source": [
    "%%init_spark\n",
    "import os \n",
    "# Configure the location master and spark\n",
    "launcher.master = \"k8s://https://kubernetes.default.svc.cluster.local\" \n",
    "\n",
    "launcher.conf.set(\"spark.kubernetes.container.image\",          \"datamechanics/spark:3.2.0-hadoop-3.3.1-java-11-scala-2.12-python-3.8-latest\")\n",
    "\n",
    "launcher.conf.set(\"spark.hadoop.fs.s3a.impl\",                  \"org.apache.hadoop.fs.s3a.S3AFileSystem\")\n",
    "launcher.conf.set(\"spark.hadoop.fs.s3a.endpoint\",              \"ewr1.vultrobjects.com\")\n",
    "launcher.conf.set(\"spark.hadoop.fs.s3a.access.key\",            \"6DKBB4FU8HIDEJD49GCF\")\n",
    "launcher.conf.set(\"spark.hadoop.fs.s3a.secret.key\",            \"QtELTrZUy402hQ5wCUowfUaiVpgWS821FaU4iFP6\")\n",
    "launcher.conf.set(\"spark.hadoop.fs.s3a.path.style.access\",     \"true\")\n",
    "\n",
    "launcher.conf.set(\"spark.eventLog.dir\",                        \"s3a://spark/spark-logs\")\n",
    "launcher.conf.set(\"spark.eventLog.enabled\",                    \"true\")\n",
    "launcher.conf.set(\"spark.eventLog.rolling.enabled\",            \"true\")\n",
    "launcher.conf.set(\"spark.eventLog.rolling.maxFileSize\",        \"128m\")\n",
    "\n",
    "launcher.conf.set(\"spark.executor.instances\",                  \"1\")\n",
    "launcher.conf.set(\"spark.executor.memory\",                     \"1024mb\")\n",
    "launcher.conf.set(\"spark.executor.cores\",                      \"1\")\n",
    "\n",
    "launcher.conf.set(\"spark.submit.deployMode\",                   \"client\")\n",
    "\n",
    "launcher.conf.set(\"spark.driver.port\",                         \"2222\")\n",
    "launcher.conf.set(\"spark.driver.host\",                         os.getenv(\"MY_POD_IP\"))\n",
    "launcher.conf.set(\"spark.driver.blockManager.port\",            \"7777\")\n",
    "launcher.conf.set(\"spark.driver.bindAddress\",                  \"0.0.0.0\")\n",
    "\n",
    "launcher.conf.set(\"spark.files.overwrite\",                     \"True\")"
   ]
  },
  {
   "cell_type": "code",
   "execution_count": 7,
   "id": "3cc9463a-c507-4c16-af66-e7e8d31c54b3",
   "metadata": {
    "execution": {
     "iopub.execute_input": "2022-02-02T13:26:52.254267Z",
     "iopub.status.busy": "2022-02-02T13:26:52.253911Z",
     "iopub.status.idle": "2022-02-02T13:27:09.741426Z",
     "shell.execute_reply": "2022-02-02T13:27:09.739967Z",
     "shell.execute_reply.started": "2022-02-02T13:26:52.254239Z"
    },
    "tags": []
   },
   "outputs": [
    {
     "data": {
      "text/plain": [
       "df: org.apache.spark.sql.DataFrame = [email: string, first_name: string ... 4 more fields]\n"
      ]
     },
     "execution_count": 7,
     "metadata": {},
     "output_type": "execute_result"
    }
   ],
   "source": [
    "val df = spark.read.parquet(\"s3a://spark/users.parquet\")"
   ]
  },
  {
   "cell_type": "code",
   "execution_count": 8,
   "id": "e581a797-8a93-4dc6-9593-bc2d8be8bb18",
   "metadata": {
    "execution": {
     "iopub.execute_input": "2022-02-02T13:27:09.757736Z",
     "iopub.status.busy": "2022-02-02T13:27:09.747058Z",
     "iopub.status.idle": "2022-02-02T13:27:19.241503Z",
     "shell.execute_reply": "2022-02-02T13:27:19.240351Z",
     "shell.execute_reply.started": "2022-02-02T13:27:09.757666Z"
    }
   },
   "outputs": [
    {
     "name": "stdout",
     "output_type": "stream",
     "text": [
      "+--------------------+----------+--------+---+---------------+----------+\n",
      "|               email|first_name|  gender| id|     ip_address| last_name|\n",
      "+--------------------+----------+--------+---+---------------+----------+\n",
      "|  agloves0@desdev.cn|    Ardisj|    Male|  1|  187.93.15.153|    Gloves|\n",
      "|tstanislaw1@yahoo...|   Tirrell|  Female|  2|230.240.200.233| Stanislaw|\n",
      "|jklaaassen2@wikia...|     Janot|  Female|  3|  176.50.164.14| Klaaassen|\n",
      "|   mnormansell3@t.co|  Maurizio|    Male|  4|194.230.149.171|Normansell|\n",
      "|slonghorn4@feedbu...|  Salomone|  Female|  5|150.204.126.121|  Longhorn|\n",
      "|awarburton5@poste...|   Anatole|  Female|  6|152.155.120.168| Warburton|\n",
      "|lpiddington6@youk...|    Layney|Bigender|  7|170.230.149.236|Piddington|\n",
      "|fnare7@artisteer.com|     Flory|  Female|  8|  104.208.67.52|      Nare|\n",
      "|eakhurst8@virgini...|     Elvyn|    Male|  9|  14.191.178.15|   Akhurst|\n",
      "|   dwixon9@baidu.com|     Davin|    Male| 10| 165.237.60.183|     Wixon|\n",
      "|ddelytha@washingt...|     Devon|    Male| 11| 252.129.221.10|    Delyth|\n",
      "|oteresib@deliciou...|   Ophelia|    Male| 12|175.205.229.107|    Teresi|\n",
      "|lleariec@bluehost...|   Leonerd|  Female| 13|108.157.214.193|    Learie|\n",
      "|  mthewd@typepad.com|     Moira|  Female| 14|    15.31.2.216|      Thew|\n",
      "|dsimpkisse@source...|    Debora|    Male| 15|  51.97.249.210|  Simpkiss|\n",
      "|    bpiercyf@icq.com|     Brynn|  Female| 16| 10.142.201.146|    Piercy|\n",
      "| cdresselg@slate.com|   Carroll|    Male| 17|  72.143.33.199|   Dressel|\n",
      "|abellowh@omniture...|     Audra|  Female| 18| 233.244.130.23|    Bellow|\n",
      "|  tsunderlandi@51.la|  Tallulah|    Male| 19|  227.95.14.207|Sunderland|\n",
      "|sbeslierj@imagesh...|   Sabrina|    Male| 20|195.220.151.194|   Beslier|\n",
      "+--------------------+----------+--------+---+---------------+----------+\n",
      "only showing top 20 rows\n",
      "\n"
     ]
    }
   ],
   "source": [
    "df.show"
   ]
  },
  {
   "cell_type": "code",
   "execution_count": null,
   "id": "f0afb262-9992-4dc6-9534-66b2f00cc503",
   "metadata": {},
   "outputs": [],
   "source": []
  }
 ],
 "metadata": {
  "kernelspec": {
   "display_name": "spylon-kernel",
   "language": "scala",
   "name": "spylon-kernel"
  },
  "language_info": {
   "codemirror_mode": "text/x-scala",
   "file_extension": ".scala",
   "help_links": [
    {
     "text": "MetaKernel Magics",
     "url": "https://metakernel.readthedocs.io/en/latest/source/README.html"
    }
   ],
   "mimetype": "text/x-scala",
   "name": "scala",
   "pygments_lexer": "scala",
   "version": "0.4.1"
  }
 },
 "nbformat": 4,
 "nbformat_minor": 5
}
